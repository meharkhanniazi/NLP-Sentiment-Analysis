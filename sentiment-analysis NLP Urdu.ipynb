{
 "cells": [
  {
   "cell_type": "code",
   "execution_count": 1,
   "metadata": {
    "_cell_guid": "b1076dfc-b9ad-4769-8c92-a6c4dae69d19",
    "_uuid": "8f2839f25d086af736a60e9eeb907d3b93b6e0e5"
   },
   "outputs": [],
   "source": [
    "# Importing the libraries\n",
    "import numpy as np\n",
    "import matplotlib.pyplot as plt\n",
    "import pandas as pd\n",
    "from sklearn.utils import shuffle\n",
    "from sklearn.preprocessing import LabelEncoder,OneHotEncoder\n",
    "#making corpus or words from comments\n",
    "import re\n",
    "from nltk.stem.porter import PorterStemmer\n",
    "import nltk\n",
    "from sklearn.feature_extraction.text import CountVectorizer\n",
    "from sklearn.model_selection import train_test_split\n",
    "from sklearn.linear_model import LogisticRegression\n",
    "from sklearn.metrics import confusion_matrix\n",
    "from sklearn.metrics import accuracy_score"
   ]
  },
  {
   "cell_type": "code",
   "execution_count": 2,
   "metadata": {
    "_cell_guid": "79c7e3d0-c299-4dcb-8224-4455121ee9b0",
    "_uuid": "d629ff2d2480ee46fbb7e2d37f6b5fab8052498a"
   },
   "outputs": [],
   "source": [
    "dataset = pd.read_csv('./darazreviews.csv',encoding='utf-8')"
   ]
  },
  {
   "cell_type": "code",
   "execution_count": 3,
   "metadata": {},
   "outputs": [],
   "source": [
    "datareview = dataset[['Reviews','Sentiment']]"
   ]
  },
  {
   "cell_type": "code",
   "execution_count": 4,
   "metadata": {},
   "outputs": [
    {
     "data": {
      "text/html": [
       "<div>\n",
       "<style scoped>\n",
       "    .dataframe tbody tr th:only-of-type {\n",
       "        vertical-align: middle;\n",
       "    }\n",
       "\n",
       "    .dataframe tbody tr th {\n",
       "        vertical-align: top;\n",
       "    }\n",
       "\n",
       "    .dataframe thead th {\n",
       "        text-align: right;\n",
       "    }\n",
       "</style>\n",
       "<table border=\"1\" class=\"dataframe\">\n",
       "  <thead>\n",
       "    <tr style=\"text-align: right;\">\n",
       "      <th></th>\n",
       "      <th>Unnamed: 0</th>\n",
       "      <th>Product_ID</th>\n",
       "      <th>Customer_Name</th>\n",
       "      <th>Customer_ID</th>\n",
       "      <th>Date</th>\n",
       "      <th>Rating</th>\n",
       "      <th>Spam(1) and Not Spam(0)</th>\n",
       "      <th>Reviews</th>\n",
       "      <th>Sentiment</th>\n",
       "      <th>Features</th>\n",
       "      <th>Unnamed: 10</th>\n",
       "      <th>Unnamed: 11</th>\n",
       "      <th>Unnamed: 12</th>\n",
       "      <th>Unnamed: 13</th>\n",
       "      <th>Unnamed: 14</th>\n",
       "      <th>Unnamed: 15</th>\n",
       "    </tr>\n",
       "  </thead>\n",
       "  <tbody>\n",
       "    <tr>\n",
       "      <th>0</th>\n",
       "      <td>0</td>\n",
       "      <td>TE111EL1KXNGWNAFAMZ</td>\n",
       "      <td>itzmr7</td>\n",
       "      <td>6702</td>\n",
       "      <td>11/9/2019</td>\n",
       "      <td>1</td>\n",
       "      <td>0</td>\n",
       "      <td>mil gya hai acha hai aur toota howa b nai hai</td>\n",
       "      <td>Positive</td>\n",
       "      <td>['toota']</td>\n",
       "      <td>NaN</td>\n",
       "      <td>NaN</td>\n",
       "      <td>NaN</td>\n",
       "      <td>NaN</td>\n",
       "      <td>NaN</td>\n",
       "      <td>NaN</td>\n",
       "    </tr>\n",
       "    <tr>\n",
       "      <th>1</th>\n",
       "      <td>1</td>\n",
       "      <td>MI543EL02ACXSNAFAMZ</td>\n",
       "      <td>Afridi</td>\n",
       "      <td>396</td>\n",
       "      <td>11/21/2016</td>\n",
       "      <td>5</td>\n",
       "      <td>0</td>\n",
       "      <td>aram sy pocket may aa jta hai aur quality b ac...</td>\n",
       "      <td>Positive</td>\n",
       "      <td>['aram', 'pocket', 'quality']</td>\n",
       "      <td>NaN</td>\n",
       "      <td>NaN</td>\n",
       "      <td>NaN</td>\n",
       "      <td>NaN</td>\n",
       "      <td>NaN</td>\n",
       "      <td>NaN</td>\n",
       "    </tr>\n",
       "    <tr>\n",
       "      <th>2</th>\n",
       "      <td>2</td>\n",
       "      <td>MI543EL02ACXSNAFAMZ</td>\n",
       "      <td>Muhammed</td>\n",
       "      <td>3710</td>\n",
       "      <td>10/22/2018</td>\n",
       "      <td>2</td>\n",
       "      <td>0</td>\n",
       "      <td>sb sy achi chez apki customer service bhot ach...</td>\n",
       "      <td>Positive</td>\n",
       "      <td>['customer', 'products', 'orignal']</td>\n",
       "      <td>NaN</td>\n",
       "      <td>NaN</td>\n",
       "      <td>NaN</td>\n",
       "      <td>NaN</td>\n",
       "      <td>NaN</td>\n",
       "      <td>NaN</td>\n",
       "    </tr>\n",
       "    <tr>\n",
       "      <th>3</th>\n",
       "      <td>3</td>\n",
       "      <td>TE111EL1KXNGWNAFAMZ</td>\n",
       "      <td>Ghazanfar</td>\n",
       "      <td>1860</td>\n",
       "      <td>10/6/2017</td>\n",
       "      <td>3</td>\n",
       "      <td>0</td>\n",
       "      <td>back cover acha hai sai cuts hai aur soft b ha...</td>\n",
       "      <td>Positive</td>\n",
       "      <td>['back', 'cover', 'cuts', 'soft', 'protector',...</td>\n",
       "      <td>NaN</td>\n",
       "      <td>NaN</td>\n",
       "      <td>NaN</td>\n",
       "      <td>NaN</td>\n",
       "      <td>NaN</td>\n",
       "      <td>NaN</td>\n",
       "    </tr>\n",
       "    <tr>\n",
       "      <th>4</th>\n",
       "      <td>4</td>\n",
       "      <td>SO638EL103OUWNAFAMZ</td>\n",
       "      <td>Murtaza iqbal</td>\n",
       "      <td>3778</td>\n",
       "      <td>8/31/2017</td>\n",
       "      <td>4</td>\n",
       "      <td>0</td>\n",
       "      <td>shru may may thumb grip k khalif thi kyu k ext...</td>\n",
       "      <td>Negative</td>\n",
       "      <td>['thumb', 'grip', 'chezy', 'stock', 'controlle...</td>\n",
       "      <td>NaN</td>\n",
       "      <td>NaN</td>\n",
       "      <td>NaN</td>\n",
       "      <td>NaN</td>\n",
       "      <td>NaN</td>\n",
       "      <td>NaN</td>\n",
       "    </tr>\n",
       "  </tbody>\n",
       "</table>\n",
       "</div>"
      ],
      "text/plain": [
       "   Unnamed: 0           Product_ID  Customer_Name  Customer_ID        Date  \\\n",
       "0           0  TE111EL1KXNGWNAFAMZ         itzmr7         6702   11/9/2019   \n",
       "1           1  MI543EL02ACXSNAFAMZ         Afridi          396  11/21/2016   \n",
       "2           2  MI543EL02ACXSNAFAMZ       Muhammed         3710  10/22/2018   \n",
       "3           3  TE111EL1KXNGWNAFAMZ      Ghazanfar         1860   10/6/2017   \n",
       "4           4  SO638EL103OUWNAFAMZ  Murtaza iqbal         3778   8/31/2017   \n",
       "\n",
       "   Rating  Spam(1) and Not Spam(0)  \\\n",
       "0       1                        0   \n",
       "1       5                        0   \n",
       "2       2                        0   \n",
       "3       3                        0   \n",
       "4       4                        0   \n",
       "\n",
       "                                             Reviews Sentiment  \\\n",
       "0      mil gya hai acha hai aur toota howa b nai hai  Positive   \n",
       "1  aram sy pocket may aa jta hai aur quality b ac...  Positive   \n",
       "2  sb sy achi chez apki customer service bhot ach...  Positive   \n",
       "3  back cover acha hai sai cuts hai aur soft b ha...  Positive   \n",
       "4  shru may may thumb grip k khalif thi kyu k ext...  Negative   \n",
       "\n",
       "                                            Features  Unnamed: 10  \\\n",
       "0                                          ['toota']          NaN   \n",
       "1                      ['aram', 'pocket', 'quality']          NaN   \n",
       "2                ['customer', 'products', 'orignal']          NaN   \n",
       "3  ['back', 'cover', 'cuts', 'soft', 'protector',...          NaN   \n",
       "4  ['thumb', 'grip', 'chezy', 'stock', 'controlle...          NaN   \n",
       "\n",
       "   Unnamed: 11  Unnamed: 12  Unnamed: 13  Unnamed: 14  Unnamed: 15  \n",
       "0          NaN          NaN          NaN          NaN          NaN  \n",
       "1          NaN          NaN          NaN          NaN          NaN  \n",
       "2          NaN          NaN          NaN          NaN          NaN  \n",
       "3          NaN          NaN          NaN          NaN          NaN  \n",
       "4          NaN          NaN          NaN          NaN          NaN  "
      ]
     },
     "execution_count": 4,
     "metadata": {},
     "output_type": "execute_result"
    }
   ],
   "source": [
    "dataset.head()"
   ]
  },
  {
   "cell_type": "code",
   "execution_count": 5,
   "metadata": {},
   "outputs": [
    {
     "data": {
      "text/html": [
       "<div>\n",
       "<style scoped>\n",
       "    .dataframe tbody tr th:only-of-type {\n",
       "        vertical-align: middle;\n",
       "    }\n",
       "\n",
       "    .dataframe tbody tr th {\n",
       "        vertical-align: top;\n",
       "    }\n",
       "\n",
       "    .dataframe thead th {\n",
       "        text-align: right;\n",
       "    }\n",
       "</style>\n",
       "<table border=\"1\" class=\"dataframe\">\n",
       "  <thead>\n",
       "    <tr style=\"text-align: right;\">\n",
       "      <th></th>\n",
       "      <th>Reviews</th>\n",
       "      <th>Sentiment</th>\n",
       "    </tr>\n",
       "  </thead>\n",
       "  <tbody>\n",
       "    <tr>\n",
       "      <th>0</th>\n",
       "      <td>mil gya hai acha hai aur toota howa b nai hai</td>\n",
       "      <td>Positive</td>\n",
       "    </tr>\n",
       "    <tr>\n",
       "      <th>1</th>\n",
       "      <td>aram sy pocket may aa jta hai aur quality b ac...</td>\n",
       "      <td>Positive</td>\n",
       "    </tr>\n",
       "    <tr>\n",
       "      <th>2</th>\n",
       "      <td>sb sy achi chez apki customer service bhot ach...</td>\n",
       "      <td>Positive</td>\n",
       "    </tr>\n",
       "    <tr>\n",
       "      <th>3</th>\n",
       "      <td>back cover acha hai sai cuts hai aur soft b ha...</td>\n",
       "      <td>Positive</td>\n",
       "    </tr>\n",
       "    <tr>\n",
       "      <th>4</th>\n",
       "      <td>shru may may thumb grip k khalif thi kyu k ext...</td>\n",
       "      <td>Negative</td>\n",
       "    </tr>\n",
       "  </tbody>\n",
       "</table>\n",
       "</div>"
      ],
      "text/plain": [
       "                                             Reviews Sentiment\n",
       "0      mil gya hai acha hai aur toota howa b nai hai  Positive\n",
       "1  aram sy pocket may aa jta hai aur quality b ac...  Positive\n",
       "2  sb sy achi chez apki customer service bhot ach...  Positive\n",
       "3  back cover acha hai sai cuts hai aur soft b ha...  Positive\n",
       "4  shru may may thumb grip k khalif thi kyu k ext...  Negative"
      ]
     },
     "execution_count": 5,
     "metadata": {},
     "output_type": "execute_result"
    }
   ],
   "source": [
    "datareview.head()"
   ]
  },
  {
   "cell_type": "code",
   "execution_count": 6,
   "metadata": {},
   "outputs": [
    {
     "data": {
      "text/plain": [
       "2372"
      ]
     },
     "execution_count": 6,
     "metadata": {},
     "output_type": "execute_result"
    }
   ],
   "source": [
    "datareview[datareview['Sentiment'] == 'Positive'].shape[0]"
   ]
  },
  {
   "cell_type": "markdown",
   "metadata": {},
   "source": [
    "visualizing the proportion in which text is available with respect to sentiment"
   ]
  },
  {
   "cell_type": "code",
   "execution_count": 7,
   "metadata": {},
   "outputs": [
    {
     "data": {
      "image/png": "[encoded data removed]",
      "text/plain": [
       "<Figure size 640x480 with 1 Axes>"
      ]
     },
     "metadata": {},
     "output_type": "display_data"
    }
   ],
   "source": [
    "Pos = datareview[datareview['Sentiment'] == 'Positive'].shape[0]\n",
    "Neg = datareview[datareview['Sentiment'] == 'Negative'].shape[0]\n",
    "Neu = datareview[datareview['Sentiment'] == 'Neutral'].shape[0]\n",
    "# bar plot of the 3 classes\n",
    "plt.bar(10,Pos,3, label=\"Positve\")\n",
    "plt.bar(15,Neg,3, label=\"Negative\")\n",
    "plt.bar(20,Neu,3, label=\"Neutral\")\n",
    "plt.legend()\n",
    "plt.ylabel('Number of examples')\n",
    "plt.title('Proportion of examples')\n",
    "plt.show()"
   ]
  },
  {
   "cell_type": "markdown",
   "metadata": {},
   "source": [
    "Above figure shows number of texts for each category of sentiment"
   ]
  },
  {
   "cell_type": "markdown",
   "metadata": {},
   "source": [
    "y is in form of categorical data so we need to convert it into quantitative data using label encoder"
   ]
  },
  {
   "cell_type": "code",
   "execution_count": 8,
   "metadata": {},
   "outputs": [],
   "source": [
    "# label selection\n",
    "y=datareview.iloc[:,1].values\n",
    "labelEnocder_y=LabelEncoder()\n",
    "y=labelEnocder_y.fit_transform(y)\n",
    "# 2 postive 0 negative 1 nuetral"
   ]
  },
  {
   "cell_type": "raw",
   "metadata": {},
   "source": [
    "Below I have performed cleaning using following\n",
    "delelting roman urdu stopwords \n",
    "converting words in lower case"
   ]
  },
  {
   "cell_type": "code",
   "execution_count": 9,
   "metadata": {},
   "outputs": [],
   "source": [
    "corpus=[]\n",
    "stopwords=['ai', 'ayi', 'hy', 'hai', 'main', 'ki', 'tha', 'koi', 'ko', 'sy', 'woh', 'bhi', 'aur', 'wo', 'yeh', 'rha', 'hota', 'ho', 'ga', 'ka', 'le', 'lye', 'kr', 'kar', 'lye', 'liye', 'hotay', 'waisay', 'gya', 'gaya', 'kch', 'ab', 'thy', 'thay', 'houn', 'hain', 'han', 'to', 'is', 'hi', 'jo', 'kya', 'thi', 'se', 'pe', 'phr', 'wala', 'waisay', 'us', 'na', 'ny', 'hun', 'rha', 'raha', 'ja', 'rahay', 'abi', 'uski', 'ne', 'haan', 'acha', 'nai', 'sent', 'photo', 'you', 'kafi', 'gai', 'rhy', 'kuch', 'jata', 'aye', 'ya', 'dono', 'hoa', 'aese', 'de', 'wohi', 'jati', 'jb', 'krta', 'lg', 'rahi', 'hui', 'karna', 'krna', 'gi', 'hova', 'yehi', 'jana', 'jye', 'chal', 'mil', 'tu', 'hum', 'par', 'hay', 'kis', 'sb', 'gy', 'dain', 'krny', 'tou']\n",
    "for i in range(0,3923):\n",
    "    review = re.sub('[^a-zA-Z]',' ',datareview.iloc[:,0].values[i])\n",
    "    review=review.lower()\n",
    "    review=review.split()\n",
    "    review=[word for word in review if not word in stopwords]\n",
    "    review=' '.join(review)\n",
    "    corpus.append(review)"
   ]
  },
  {
   "cell_type": "markdown",
   "metadata": {},
   "source": [
    "making matrix of most common words with countVectorizer it is used to make vocabulary "
   ]
  },
  {
   "cell_type": "code",
   "execution_count": 10,
   "metadata": {},
   "outputs": [],
   "source": [
    "# making matrix of most common words with countVectorizer it is used to make vocabulary   \n",
    "cv=CountVectorizer(max_features=2500)\n",
    "x=cv.fit_transform(corpus).toarray()"
   ]
  },
  {
   "cell_type": "markdown",
   "metadata": {},
   "source": [
    "spliting dataset into train and test set"
   ]
  },
  {
   "cell_type": "code",
   "execution_count": 11,
   "metadata": {},
   "outputs": [],
   "source": [
    "#spliting dataset into train and test set\n",
    "x_train,x_test,y_train,y_test=train_test_split(x,y,test_size=0.20)"
   ]
  },
  {
   "cell_type": "markdown",
   "metadata": {},
   "source": [
    "In Cell below we have created logistic regression classifier used 80% of data for training 20% for testing created \n",
    "confusion matrix printed it and visualized as well"
   ]
  },
  {
   "cell_type": "code",
   "execution_count": 12,
   "metadata": {},
   "outputs": [
    {
     "name": "stdout",
     "output_type": "stream",
     "text": [
      "Confusion Matrix\n",
      "[[128  15  57]\n",
      " [ 25  51  29]\n",
      " [ 29  20 431]]\n"
     ]
    },
    {
     "name": "stderr",
     "output_type": "stream",
     "text": [
      "C:\\Users\\azhar\\AppData\\Local\\Temp\\ipykernel_19468\\2848673302.py:13: UserWarning: FixedFormatter should only be used together with FixedLocator\n",
      "  ax.set_xticklabels([''] + labels)\n",
      "C:\\Users\\azhar\\AppData\\Local\\Temp\\ipykernel_19468\\2848673302.py:14: UserWarning: FixedFormatter should only be used together with FixedLocator\n",
      "  ax.set_yticklabels([''] + labels)\n"
     ]
    },
    {
     "data": {
      "image/png": "[encoded data removed]",
      "text/plain": [
       "<Figure size 640x480 with 2 Axes>"
      ]
     },
     "metadata": {},
     "output_type": "display_data"
    },
    {
     "name": "stdout",
     "output_type": "stream",
     "text": [
      "Accuracy is 0.7770700636942676 \n"
     ]
    }
   ],
   "source": [
    "classifier=LogisticRegression(random_state=0,solver='liblinear',multi_class='auto')\n",
    "classifier.fit(x_train,y_train)\n",
    "y_pred=classifier.predict(x_test)\n",
    "cm=confusion_matrix(y_test,y_pred)\n",
    "print(\"Confusion Matrix\")\n",
    "print(cm)\n",
    "labels=['Positive','Neutral','Negative']\n",
    "fig = plt.figure()\n",
    "ax = fig.add_subplot(111)\n",
    "cax = ax.matshow(cm)\n",
    "plt.title('Confusion matrix of the classifier \\n')\n",
    "fig.colorbar(cax)\n",
    "ax.set_xticklabels([''] + labels)\n",
    "ax.set_yticklabels([''] + labels)\n",
    "plt.xlabel('Predicted')\n",
    "plt.ylabel('True')\n",
    "plt.show()\n",
    "print('Accuracy is {} '.format(accuracy_score(y_test, y_pred)))"
   ]
  },
  {
   "cell_type": "code",
   "execution_count": 15,
   "metadata": {},
   "outputs": [
    {
     "ename": "TypeError",
     "evalue": "write() argument must be str, not bytes",
     "output_type": "error",
     "traceback": [
      "\u001b[1;31m---------------------------------------------------------------------------\u001b[0m",
      "\u001b[1;31mTypeError\u001b[0m                                 Traceback (most recent call last)",
      "Cell \u001b[1;32mIn[15], line 5\u001b[0m\n\u001b[0;32m      3\u001b[0m filename \u001b[38;5;241m=\u001b[39m \u001b[38;5;124m'\u001b[39m\u001b[38;5;124mlogistic_regression_model.sav\u001b[39m\u001b[38;5;124m'\u001b[39m\n\u001b[0;32m      4\u001b[0m pickle\u001b[38;5;241m.\u001b[39mdump(classifier, \u001b[38;5;28mopen\u001b[39m(filename, \u001b[38;5;124m'\u001b[39m\u001b[38;5;124mwb\u001b[39m\u001b[38;5;124m'\u001b[39m))\n\u001b[1;32m----> 5\u001b[0m \u001b[43mpickle\u001b[49m\u001b[38;5;241;43m.\u001b[39;49m\u001b[43mdump\u001b[49m\u001b[43m(\u001b[49m\u001b[43mcv\u001b[49m\u001b[43m,\u001b[49m\u001b[38;5;28;43mopen\u001b[39;49m\u001b[43m(\u001b[49m\u001b[38;5;124;43m\"\u001b[39;49m\u001b[38;5;124;43mcountvectorizer.sav\u001b[39;49m\u001b[38;5;124;43m\"\u001b[39;49m\u001b[43m)\u001b[49m\u001b[43m)\u001b[49m\n",
      "\u001b[1;31mTypeError\u001b[0m: write() argument must be str, not bytes"
     ]
    }
   ],
   "source": [
    "#Save the Model\n",
    "import pickle\n",
    "filename = 'logistic_regression_model.sav'\n",
    "pickle.dump(classifier, open(filename, 'wb'))\n",
    "filename = 'countvectorizer.sav'\n",
    "pickle.dump(cv, open(filename, 'wb'))"
   ]
  },
  {
   "cell_type": "code",
   "execution_count": 16,
   "metadata": {},
   "outputs": [],
   "source": [
    "# Loading the saved model\n",
    "loaded_model = pickle.load(open(filename, 'rb'))\n",
    "cv = pickle.load(open('countvectorizer.sav', 'rb'))"
   ]
  },
  {
   "cell_type": "code",
   "execution_count": 24,
   "metadata": {},
   "outputs": [],
   "source": [
    "def predict_sentiment(review):\n",
    "    review = [review]\n",
    "    review = cv.transform(review).toarray()\n",
    "    sentiment = loaded_model.predict(review)\n",
    "    if sentiment == 2:\n",
    "        return \"Positive 😀\"\n",
    "    elif sentiment == 1:\n",
    "        return \"Neutral 😐\"\n",
    "    else:\n",
    "        return \"Negative 😠\"\n"
   ]
  },
  {
   "cell_type": "code",
   "execution_count": 25,
   "metadata": {},
   "outputs": [
    {
     "name": "stdout",
     "output_type": "stream",
     "text": [
      "Enter your review: ya product bohat hi achi hai\n",
      "Sentiment:  Positive 😀\n"
     ]
    }
   ],
   "source": [
    "#User Input and Ouput for them\n",
    "user_review = input(\"Enter your review: \")\n",
    "print(\"Sentiment: \", predict_sentiment(user_review))"
   ]
  },
  {
   "cell_type": "code",
   "execution_count": null,
   "metadata": {},
   "outputs": [],
   "source": []
  }
 ],
 "metadata": {
  "kernelspec": {
   "display_name": "sentimentpnn",
   "language": "python",
   "name": "sentimentpnn"
  },
  "language_info": {
   "codemirror_mode": {
    "name": "ipython",
    "version": 3
   },
   "file_extension": ".py",
   "mimetype": "text/x-python",
   "name": "python",
   "nbconvert_exporter": "python",
   "pygments_lexer": "ipython3",
   "version": "3.10.8"
  }
 },
 "nbformat": 4,
 "nbformat_minor": 1
}
